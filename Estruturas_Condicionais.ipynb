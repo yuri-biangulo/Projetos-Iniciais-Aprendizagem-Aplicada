{
  "nbformat": 4,
  "nbformat_minor": 0,
  "metadata": {
    "colab": {
      "name": "Estruturas Condicionais.ipynb",
      "provenance": [],
      "authorship_tag": "ABX9TyOolYcnvWoVqjLwI/f/ikb8",
      "include_colab_link": true
    },
    "kernelspec": {
      "name": "python3",
      "display_name": "Python 3"
    },
    "language_info": {
      "name": "python"
    }
  },
  "cells": [
    {
      "cell_type": "markdown",
      "metadata": {
        "id": "view-in-github",
        "colab_type": "text"
      },
      "source": [
        "<a href=\"https://colab.research.google.com/github/yuri-biangulo/Projetos-Iniciais-Aprendizagem-Aplicada/blob/main/Estruturas_Condicionais.ipynb\" target=\"_parent\"><img src=\"https://colab.research.google.com/assets/colab-badge.svg\" alt=\"Open In Colab\"/></a>"
      ]
    },
    {
      "cell_type": "markdown",
      "source": [
        "CONDIÇÕES ANINHADAS "
      ],
      "metadata": {
        "id": "DjZk_DyKkCP3"
      }
    },
    {
      "cell_type": "code",
      "execution_count": 5,
      "metadata": {
        "colab": {
          "base_uri": "https://localhost:8080/"
        },
        "id": "qCOqNBC5gXRP",
        "outputId": "1f1223b9-e16d-46f3-fefd-efe91f488545"
      },
      "outputs": [
        {
          "output_type": "stream",
          "name": "stdout",
          "text": [
            "Qual o seu nome? : Jessica\n",
            "Belo nome feminino\n",
            "Tenha um bom dia, Jessica\n"
          ]
        }
      ],
      "source": [
        "nome = str(input('Qual o seu nome? : '))\n",
        "if nome =='Gustavo':\n",
        "  print('Que nome bonito !!! ')\n",
        "elif nome == 'Pedro' or nome == 'Maria' or nome == 'Paulo':\n",
        "  print('Seu nome é bem popular no Brasil.')\n",
        "elif nome in 'Ana Claudia Jessica Juliana':\n",
        "  print('Belo nome feminino')\n",
        "else:\n",
        "  print('Seu nome é bem normal.')\n",
        "print('Tenha um bom dia, {}'.format(nome))"
      ]
    },
    {
      "cell_type": "code",
      "source": [
        "#ESCREVA UM PROGRAMA PARA A PROVAR O EMPRESTIMO BANCARIO\n",
        "#PARA A COMPRA DE UMA CASA. O PROGRAMA VAI PERGUNTAR O VALOR DA CASA,\n",
        "#O SALARIO DO COMPRADOR E EM QUANTOS ANOS ELE VAI PAGAR \n",
        "#Calcule o valor da prestação mensal.\n",
        "#Sabendo que ela não pode exceder 30% do salario ou então o emprestimo será negado.\n",
        "\n",
        "\n",
        "#Dados de entrada \n",
        "valor_casa = float(input('Digie o valor da casa total : '))\n",
        "salario = float(input('Digite o valor do salario mensal:'))\n",
        "anos = float(input('Digite em quantos anos você pretende pagar: '))\n",
        "#calculo valor da prestação !\n",
        "valor_minimo = salario*0.30 - (valor_parcela)\n",
        "\n",
        "valor_parcela = (valor_casa / anos)/12\n",
        "while valor_minimo > 0:\n",
        "  if valor_parcela > salario*0.30:\n",
        "    print('O valor da parcela Excede 30% do seu salario ! \\n O valor da parcela para essa quantidade de anos deve ser {}'.format(valor_minimo))\n",
        "  else:\n",
        "    print('O valor da parcela é de {}'.format(valor_parcela))"
      ],
      "metadata": {
        "id": "XXhgwPtpkJxW"
      },
      "execution_count": null,
      "outputs": []
    },
    {
      "cell_type": "code",
      "source": [
        "#Escreva um program que leia dois numeros inteiros e compare-os\n",
        "#mostrando na tela uma mensagem \n",
        "#o primeiro numero é maior, o segundo é maior , ou os dois numeros são iguais\n",
        "a = int(input('Digite o primeiro numero: '))\n",
        "b = int(input('Digite o segundo numero: '))\n",
        "if a > b:\n",
        "  print('O primeiro numero é maior')\n",
        "elif b > a:\n",
        "  print('O segundo numero é maior')\n",
        "else:\n",
        "  print('Os numeros são iguais')"
      ],
      "metadata": {
        "colab": {
          "base_uri": "https://localhost:8080/"
        },
        "id": "4SDEpd1_1Sx1",
        "outputId": "458d57b8-f095-43b6-c5ff-7b198fcad06b"
      },
      "execution_count": 35,
      "outputs": [
        {
          "output_type": "stream",
          "name": "stdout",
          "text": [
            "Digite o primeiro numero5\n",
            "Digite o segundo numero5\n",
            "Os numeros são iguais\n"
          ]
        }
      ]
    },
    {
      "cell_type": "code",
      "source": [
        "'''Faça um program que leia o ano de nascimento de um jovem e informe de acordo com a sua idade:\n",
        "se ele ainda vai se alistar ao serviço militar é a hora de ser alistar\n",
        "se já passou o tempo de alistamento \n",
        "seu programa tambem deverá mostrar o tempo que falta ou o tempo que passou do prazo.\n",
        "'''\n",
        "data = int(input('Digte o ano de nascimento do desgraçado: '))\n",
        "ano = 2022\n",
        "idade = ano - data\n",
        "resta = (18 - idade)\n",
        "if ano - data < 18:\n",
        "  print('Calma gafanhoto, voce tem apenas {} anos, ainda não é a hora de se fuder \\n Ainda falta {} ano'.format(idade, resta ))\n",
        "elif idade == 18:\n",
        "  print('Se fudeu gafanhoto, esse ano voce terá {} anos, pega as malas e vaza pro serviço militar !!!'.format(idade))\n",
        "elif idade > 18:\n",
        "  print('Já era cachorro agrestino !! era pra tu se alistar a {} ano(s) atrás my Jovi !! eai ? Alistou ??'.format(-resta))"
      ],
      "metadata": {
        "colab": {
          "base_uri": "https://localhost:8080/"
        },
        "id": "L9mFnCYG2vSK",
        "outputId": "0c24069c-eeb7-4d3d-8b02-6e57972145df"
      },
      "execution_count": 43,
      "outputs": [
        {
          "output_type": "stream",
          "name": "stdout",
          "text": [
            "Digte o ano de nascimento do desgraçado: 1996\n",
            "Já era cachorro agrestino !! era pra tu se alistar a 8 ano(s) atrás my Jovi !! eai ? Alistou ??\n"
          ]
        }
      ]
    },
    {
      "cell_type": "code",
      "source": [
        "'''Crie um progrma que leia duas notas de um aluno e calcule sua média. \n",
        "Mostrando uma mensagem no final de acordo com a media atingida:\n",
        "Media abaixo de 5.0: R  EPROVADO \n",
        "Media entre 5.0 e 6.9: RECUPERAÇÃO\n",
        "média 7.0 ou superior : APROVADO\n",
        "'''\n",
        "a = float(input('Digite a primeira nota: '))\n",
        "b = float(input('Digite a segunda nota: '))\n",
        "m = (a+b)/2\n",
        "if m < 5:\n",
        "  print('Pedaço de lixo Inutil, sua nota final foi {}\\n REPROVADO !!!'.format(m))\n",
        "elif m >= 7:\n",
        "  print('Parabens gafanhoto, tu passou, sua nota foi de {}\\n APROVADO !'.format(m))\n",
        "else:\n",
        "  print('Se fudeu parcialmente, mas ianda tme uma chance na recuperação, sua nota foi de {}\\n RECUPERAÇÃO'.format(m))"
      ],
      "metadata": {
        "id": "g-QJS1SHJWG_"
      },
      "execution_count": null,
      "outputs": []
    },
    {
      "cell_type": "code",
      "source": [
        "''' A confederação Nacional de Natação precisa de um progrma que leia\n",
        " o ano de nascimento de um atleta e mostre sua categoria, de acordo com a idade:\n",
        " ate 9 anos : MIRIM \n",
        " ate 14 anos : Infantil\n",
        " até 19 anos : junior\n",
        " até 20 anos :  senior \n",
        " acima: master \n",
        " '''\n",
        "nome = input('Digite o nome do pedaço de lixo: ')\n",
        "data = int(input('Digite a data de nascimento do desgraçado: '))\n",
        "ano = 2022\n",
        "idade = ano - data\n",
        "if idade <= 9:\n",
        "  print('A categoria do atleta {}, é MIRIM, pois ele tem {} anos'.format(nome, idade))\n",
        "elif idade <= 14:\n",
        "  print('A categoria do atleta {}, é INFANTIL, pois ele tem {} anos'.format(nome, idade))\n",
        "elif idade <= 19:\n",
        "  print('A categoria do atleta {}, é JUNIOR, pois ele tem {} anos'.format(nome, idade))\n",
        "elif idade <= 20:\n",
        "  print('A categoria do atleta {}, é SENIOR, pois ele tem {} anos'.format(nome, idade))\n",
        "elif idade > 20:\n",
        "  print('A categoria do atleta {}, é MASTER, pois ele tem {} anos'.format(nome, idade))"
      ],
      "metadata": {
        "colab": {
          "base_uri": "https://localhost:8080/"
        },
        "id": "ie3HSqnFLz-K",
        "outputId": "0856aee1-388d-4132-8366-bfcaa2885d3f"
      },
      "execution_count": 54,
      "outputs": [
        {
          "output_type": "stream",
          "name": "stdout",
          "text": [
            "Digite o nome do pedaço de lixo: Yuri\n",
            "Digite a data de nascimento do desgraçado: 2010\n",
            "A categoria do atleta Yuri, é INFANTIL, pois ele tem 12 anos\n"
          ]
        }
      ]
    },
    {
      "cell_type": "code",
      "source": [
        "'''Desenvolva uma logica que leia o peso e altura de uma pessoa,\n",
        " calcula seu IMC e mostra seu status, de acordo com a tabela abaixo:\n",
        "Abaixo de 18.5 : Abaixo do Peso\n",
        "entre 18.5 e 25: Peso ideal\n",
        "de 25 a 30: Sobrepeso\n",
        "de 30 até 40 Obesidade\n",
        "acima de 40: Obesidade Morbida \n",
        "'''\n",
        "#dados de entrada\n",
        "nome = input('Digite o nome do desgraçado: ')\n",
        "peso = float(input('Digite o PESO(KG) do desgraçado: '))\n",
        "altura = float(input('Digite a ALTURA(M) do desgraçado: '))\n",
        "imc = peso / (altura**2)\n",
        "#Condicional\n",
        "if imc < 18.5:\n",
        "  print('{}, voce precisa comer mais anemico, filho da puta, seu IMC é {}.'.format(nome, imc))\n",
        "elif imc >= 18.5 and imc < 25:\n",
        "  print('{}, você está no peso adequado, segundo esse calculo de merda seu IMC é {}'.format(nome, imc))\n",
        "elif imc >= 25 and imc < 30:\n",
        "  print('{}, você está no SOBREPESO, segundo esse calculo de merda seu IMC é {}'.format(nome, imc))\n",
        "elif imc >= 30 and imc < 40:\n",
        "  print('{}, você está OBESO, segundo esse calculo de merda seu IMC é {}'.format(nome, imc))\n",
        "elif imc > 40:\n",
        "  print('{}, você está COM OBESIDADE MORBIDA, segundo esse calculo de merda seu IMC é {}'.format(nome, imc))"
      ],
      "metadata": {
        "colab": {
          "base_uri": "https://localhost:8080/"
        },
        "id": "xdHFfL90OGT-",
        "outputId": "5ceee2e0-2b35-45a2-a0bd-c352a40ae80d"
      },
      "execution_count": 68,
      "outputs": [
        {
          "output_type": "stream",
          "name": "stdout",
          "text": [
            "Digite o nome do desgraçado: Yuri\n",
            "Digite o PESO(KG) do desgraçado: 150\n",
            "Digite a ALTURA(M) do desgraçado: 1.60\n",
            "Yuri, você está COM OBESIDADE MORBIDA, segundo esse calculo de merda seu IMC é 58.593749999999986\n"
          ]
        }
      ]
    },
    {
      "cell_type": "code",
      "source": [
        "'''Elabore um progrma que clacule o valor a ser pago por um produto, \n",
        "considerando o seu preço normal e condição de pagamento: \n",
        "á vista no dinheiro: 10% de desconto.\n",
        "à vista no cartão: 5% de desconto.\n",
        "em até 2x no cartão: preço normal.\n",
        "3x ou mais no cartão 20% de juros.\n",
        "'''\n",
        "#Dados de entrada: \n",
        "print ('{:=^40}'.format('LOJAS BIANGULO'))\n",
        "produto = input('Digite o nome do produto: ')\n",
        "valor_produto = float(input('Digite o valor do produto: R$ '))\n",
        "print('''FORMAS DE PAGAMENTO\n",
        "[ 1 ] À VISTA DINHEIRO / CHEQUE\n",
        "[ 2 ] À VISTA CARTÃO \n",
        "[ 3 ] 2X NO CARTÃO \n",
        "[ 4 ] 3X OUM AIS NO CARTÃO''')\n",
        "opção = int(input('Digite a opção de pagamento: '))\n",
        "dinheiro = valor_produto - (valor_produto * 10 / 100)\n",
        "cartão1 = valor_produto - (valor_produto * 5 / 100)\n",
        "cartão2 = valor_produto\n",
        "cartão3 = valor_produto + (valor_produto * 20 / 100)\n",
        "\n",
        "if opção == 1:\n",
        "  print('O valor do produto {}, é R${} reais \\n Você recebe um DESCONTO de 10% \\n Para pagamento À VISTA o valor é de {:.2f} reais'.format(produto, valor_produto, dinheiro))\n",
        "elif opção == 2:\n",
        "  print('O valor do produto {}, é R${} reais \\n Você recebe um DESCONTO de 5% \\n Para pagamento À VISTA NO CARTÃO é de {:.2f} reais'.format(produto, valor_produto, cartão1))\n",
        "elif opção == 3:\n",
        "  print('O valor do produto {}, é R${} reais \\n Você não recebeu DESCONTO \\n Para pagamento em 2X NO CARTÃO é de {:.2f} reais'.format(produto, valor_produto, cartão2))\n",
        "elif opção == 4:\n",
        "  parcelas = int(input('Quantas parcelas ? : '))\n",
        "  print('O valor do produto {}, é R${} reais \\n Você pagara um JUROS de 20% \\n Para pagamento em {}X NO CARTÃO é de {:.2f} reais'.format(produto, valor_produto,parcelas, cartão3,))\n",
        "else: \n",
        "  valor_produto = 0\n",
        "  print('Opção invalidade pagamento !! \\n tente novamente ')"
      ],
      "metadata": {
        "id": "ShWhx2nwSIKQ"
      },
      "execution_count": null,
      "outputs": []
    },
    {
      "cell_type": "code",
      "source": [
        ""
      ],
      "metadata": {
        "id": "IlMh_tS0hplA"
      },
      "execution_count": null,
      "outputs": []
    }
  ]
}
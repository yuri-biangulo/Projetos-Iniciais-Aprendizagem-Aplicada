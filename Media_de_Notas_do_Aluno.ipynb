{
  "nbformat": 4,
  "nbformat_minor": 0,
  "metadata": {
    "colab": {
      "name": "Media de Notas do Aluno.ipynb",
      "provenance": [],
      "authorship_tag": "ABX9TyPwl6lK05K8MQckRfrpIunM",
      "include_colab_link": true
    },
    "kernelspec": {
      "name": "python3",
      "display_name": "Python 3"
    },
    "language_info": {
      "name": "python"
    }
  },
  "cells": [
    {
      "cell_type": "markdown",
      "metadata": {
        "id": "view-in-github",
        "colab_type": "text"
      },
      "source": [
        "<a href=\"https://colab.research.google.com/github/yuri-biangulo/Projetos-Iniciais-Aprendizagem-Aplicada/blob/main/Media_de_Notas_do_Aluno.ipynb\" target=\"_parent\"><img src=\"https://colab.research.google.com/assets/colab-badge.svg\" alt=\"Open In Colab\"/></a>"
      ]
    },
    {
      "cell_type": "code",
      "execution_count": 16,
      "metadata": {
        "colab": {
          "base_uri": "https://localhost:8080/"
        },
        "id": "xLfLy_59mmKK",
        "outputId": "efc494fc-73c1-4a7c-c454-aaa74fd20473"
      },
      "outputs": [
        {
          "output_type": "stream",
          "name": "stdout",
          "text": [
            "Digite a nota: 5\n",
            "Digite a nota: 5\n",
            "A media é  5.0\n"
          ]
        }
      ],
      "source": [
        "n1 = float(input('Digite a nota: '))\n",
        "n2 = float(input('Digite a nota: '))\n",
        "n3 = n1 + n2\n",
        "media = (n3 / 2)\n",
        "print ('A media é ', media)"
      ]
    },
    {
      "cell_type": "code",
      "source": [
        ""
      ],
      "metadata": {
        "id": "4Gxmtuado8IF"
      },
      "execution_count": null,
      "outputs": []
    }
  ]
}
{
  "nbformat": 4,
  "nbformat_minor": 0,
  "metadata": {
    "colab": {
      "name": "Condições if else.ipynb",
      "provenance": [],
      "authorship_tag": "ABX9TyPTZqawETUT+ibBzC4I32hh",
      "include_colab_link": true
    },
    "kernelspec": {
      "name": "python3",
      "display_name": "Python 3"
    },
    "language_info": {
      "name": "python"
    }
  },
  "cells": [
    {
      "cell_type": "markdown",
      "metadata": {
        "id": "view-in-github",
        "colab_type": "text"
      },
      "source": [
        "<a href=\"https://colab.research.google.com/github/yuri-biangulo/Projetos-Iniciais-Aprendizagem-Aplicada/blob/main/Condi%C3%A7%C3%B5es_if_else.ipynb\" target=\"_parent\"><img src=\"https://colab.research.google.com/assets/colab-badge.svg\" alt=\"Open In Colab\"/></a>"
      ]
    },
    {
      "cell_type": "code",
      "execution_count": null,
      "metadata": {
        "id": "cctu6pxHW_OR"
      },
      "outputs": [],
      "source": [
        "n1 = float(input('Digite a primeira nota: '))\n",
        "n2 = float(input('Digite a segunda nota: '))\n",
        "m = (n1 + n2) / 2\n",
        "print ('A sua média foi {}'.format(m))\n",
        "if m > 7:\n",
        "  print('Parabens tu passou cabrito')\n",
        "else:\n",
        "  print('tu foi reprovado cabrito!!')"
      ]
    },
    {
      "cell_type": "code",
      "source": [
        "#ESCREVA UM PROGRMAA QUE FAÇA O COMPUTADOR 'PENSAR' EM UM NUMERO INTEIRO ENTRE 0 E 5 E \n",
        "#PEÇA PARA O USUARIO TENTAR DESCOBRIR QUAL FOI O NÚMERO ESCOLHIDO PELO COMPUTADOR\n",
        "# O PROGRAMA DEVERA ESCREVER NA TELA SE O USUARIO VENDEU OU PERDEU. \n",
        "import math\n",
        "from random import randint\n",
        "num = randint(0,5) # faz o computador gerar um numero aleatorio entre 0 e 5 \n",
        "n = int(input('Em que número eu pensei ?: '))\n",
        "print('PROCESSANDO...')\n",
        "if num == n:\n",
        "  print('Asertô Mizeraviii !!!')\n",
        "else: \n",
        "  print('Errô desgrama, morre daibo !!!')\n",
        "  print('O numero certo era {}'.format(num))"
      ],
      "metadata": {
        "colab": {
          "base_uri": "https://localhost:8080/"
        },
        "id": "3VcSeVXThiFz",
        "outputId": "ef092ced-e13f-4321-82fc-15746bd9a4e3"
      },
      "execution_count": 42,
      "outputs": [
        {
          "output_type": "stream",
          "name": "stdout",
          "text": [
            "Em que número eu pensei ?: 3\n",
            "PROCESSANDO...\n",
            "Errô desgrama, morre daibo !!!\n",
            "O numero certo era 0\n"
          ]
        }
      ]
    },
    {
      "cell_type": "code",
      "source": [
        "from typing import Counter\n",
        "#FAÇA UM RADAR ELETRONICO\n",
        "#ESCREVA UM RPOGRMA QUE LEIA A VELOCIDADE UM CARRO SE LE ULTRAPAÇAR 80 KM POR HORA \n",
        "#MOSTRA UMA MENSAGEM DIZENDO QUEW ELE FOI MULTADO A MULTA VAIU CUSTAR 7.00 POR CADA KM ACIMA DO LIMITE \n",
        "v = float(input('Qual a velocidade do carro ? '))\n",
        "if v <= 80 : print('Você está dentro do limite de velocidade !')\n",
        "else:\n",
        "  multa = (v-80)*7\n",
        "  print('Você está acima da velocidade permitida !!')\n",
        "  print('Você levou uma multa de R${} reais'.format(multa))\n"
      ],
      "metadata": {
        "colab": {
          "base_uri": "https://localhost:8080/"
        },
        "id": "Yj1fABuS93Xv",
        "outputId": "75b391ed-8362-4600-81df-77e71399af6b"
      },
      "execution_count": 47,
      "outputs": [
        {
          "output_type": "stream",
          "name": "stdout",
          "text": [
            "Qual a velocidade do carro ? 100\n",
            "Você está acima da velocidade permitida !!\n",
            "Você levou uma multa de R$140.0 reais\n"
          ]
        }
      ]
    },
    {
      "cell_type": "code",
      "source": [
        "# faça um programa que diga se um numero é par ou impar\n",
        "n = int(input('Digite se um numero: '))\n",
        "r = n % 2\n",
        "if  r == 0:\n",
        "  print('Esse numero  é PAR')\n",
        "else:\n",
        "  print('esse numero é IMPAR')"
      ],
      "metadata": {
        "colab": {
          "base_uri": "https://localhost:8080/"
        },
        "id": "PUMTDt7aR3WN",
        "outputId": "bd013a5b-aabe-4096-80cc-e2fbe40fe221"
      },
      "execution_count": 63,
      "outputs": [
        {
          "output_type": "stream",
          "name": "stdout",
          "text": [
            "Digite se um numero: 5\n",
            "esse numero é IMPAR\n"
          ]
        }
      ]
    },
    {
      "cell_type": "code",
      "source": [
        "#FAÇA UM PROGRAMA QUE CALCULA O VALOR DA PASSAGEM DE ACORDO COM A DISTANCIA DA VIAGEM. \n",
        "# o custo por km é de 0,50 para viagens até 200 km  e 0.45 centavos para viagens mais longas \n",
        "d = int(input('Digite a distancia até seu destino em KM: '))\n",
        "vp1 = d*0.50\n",
        "vp2 = d*0.45\n",
        "desc = d*0.05\n",
        "if d > 200:\n",
        "  print('Parabens !!! \\n você ganhou um desconto !!! de: \\n R${} reais'.format(desc))\n",
        "  print('O valor da passagem para a distancia de {}KM é de R${}reais'.format(d,vp2))\n",
        "else:\n",
        "  print('O valor da passagem para a distancia de {}KM é de R${}'.format(d, vp1))"
      ],
      "metadata": {
        "colab": {
          "base_uri": "https://localhost:8080/"
        },
        "id": "qwGOHLjDUxhg",
        "outputId": "ba772302-39c9-421b-b2c2-f9b65a436f87"
      },
      "execution_count": 67,
      "outputs": [
        {
          "output_type": "stream",
          "name": "stdout",
          "text": [
            "Digite a distancia até seu destino em KM: 1000\n",
            "Parabens !!! \n",
            " você ganhou um desconto !!! de: \n",
            " R$50.0 reais\n",
            "O valor da passagem para a distancia de 1000KM é de R$450.0reais\n"
          ]
        }
      ]
    },
    {
      "cell_type": "code",
      "source": [
        "#FAÇA UM PROGRMA QUE VERIFICA SE O ANO É BISEXTO\n",
        "ano = int(input('Que ano quer analisar? '))\n",
        "if ano ==0:\n",
        "  ano =date.today().year\n",
        "if ano % 4 ==0  and ano % 100 != 0 or ano %400 == 0:\n",
        "  print('O ano {} é BISSEXTO'.format(ano))\n",
        "else:\n",
        "  print('O ano {} não é BISSEXTO'.format(ano))"
      ],
      "metadata": {
        "colab": {
          "base_uri": "https://localhost:8080/"
        },
        "id": "1ejO6MKBZ0uA",
        "outputId": "ce67dab8-3a5a-4015-b5c5-7724407971bc"
      },
      "execution_count": 72,
      "outputs": [
        {
          "output_type": "stream",
          "name": "stdout",
          "text": [
            "Que ano quer analisar? 2022\n",
            "O ano 2022 não é BISSEXTO\n"
          ]
        }
      ]
    },
    {
      "cell_type": "code",
      "source": [
        "#FAÇA UM PROGRAMA QUE LEIA TRÊS NÚMEOS E DIGA QUAL É O MAIOR E QUAL É O MENOR\n",
        "a=float(input('Digite o primeiro numero:'))\n",
        "b=float(input('Digite o segundo numero:'))\n",
        "c=float(input('Digite o terceiro numero:'))\n",
        "#verificando quem é o menor\n",
        "menor = a\n",
        "if b<a and b<c:\n",
        "  menor = b\n",
        "if c<a and c<b:\n",
        "  menor = c\n",
        "  print('O menor valor é {}'.format(menor))\n",
        "maior = a \n",
        "if b>a and b>c:\n",
        "  maior = b\n",
        "if c>a and c>b:\n",
        "  maior = c\n",
        "print('O maior valor é {}'.format(maior))\n",
        "  "
      ],
      "metadata": {
        "colab": {
          "base_uri": "https://localhost:8080/"
        },
        "id": "oJ1LLNUeb5SN",
        "outputId": "90c88f47-b0b4-41c3-f28f-46f6ba224be9"
      },
      "execution_count": 90,
      "outputs": [
        {
          "output_type": "stream",
          "name": "stdout",
          "text": [
            "Digite o primeiro numero:3\n",
            "Digite o segundo numero:2\n",
            "Digite o terceiro numero:1\n",
            "O menor valor é 1.0\n",
            "O maior valor é 3.0\n"
          ]
        }
      ]
    },
    {
      "cell_type": "code",
      "source": [
        "#ESCREVA UM PROGRMA QUE PERGUNTE  O SALRIO DE M FUNCIONARIO E CALCULE O VALOR DO SEU AUMENTO.\n",
        "#PARA SALRIOS SUPERIORES A R5 1250 REAIS CALCULE UM AUMENTO DE 10%\n",
        "#PARA OS INFERIORES OU IGUAIS UM AUMENTO DE 15%\n",
        "salario = float(input('Digite o salrio do funcionario:'))\n",
        "salario_ajustado1 =  salario + (salario * 0.15)\n",
        "salario_ajustado2 = salario + (salario*0.10)\n",
        "salario > 0\n",
        "if salario <= 1250:\n",
        "  print('O seu salario ajustado é R${}reais'.format(salario_ajustado1))\n",
        "else:\n",
        "  print('O seu salario ajustado é R${}reais'.format(salario_ajustado2))"
      ],
      "metadata": {
        "colab": {
          "base_uri": "https://localhost:8080/"
        },
        "id": "OMzHAnMxtPrj",
        "outputId": "38942b0c-e424-4eb6-cdd8-f1c994212fcb"
      },
      "execution_count": 94,
      "outputs": [
        {
          "output_type": "stream",
          "name": "stdout",
          "text": [
            "Digite o salrio do funcionario:10000\n",
            "O seu salario ajustado é R$11000.0reais\n"
          ]
        }
      ]
    }
  ]
}
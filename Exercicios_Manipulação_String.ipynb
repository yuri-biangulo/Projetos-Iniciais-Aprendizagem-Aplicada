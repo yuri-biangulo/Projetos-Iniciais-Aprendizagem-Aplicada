{
  "nbformat": 4,
  "nbformat_minor": 0,
  "metadata": {
    "colab": {
      "name": "Exercicios Manipulação String.ipynb",
      "provenance": [],
      "authorship_tag": "ABX9TyM4DUxlp+po/+4wfTK0Tj+K",
      "include_colab_link": true
    },
    "kernelspec": {
      "name": "python3",
      "display_name": "Python 3"
    },
    "language_info": {
      "name": "python"
    }
  },
  "cells": [
    {
      "cell_type": "markdown",
      "metadata": {
        "id": "view-in-github",
        "colab_type": "text"
      },
      "source": [
        "<a href=\"https://colab.research.google.com/github/yuri-biangulo/Projetos-Iniciais-Aprendizagem-Aplicada/blob/main/Exercicios_Manipula%C3%A7%C3%A3o_String.ipynb\" target=\"_parent\"><img src=\"https://colab.research.google.com/assets/colab-badge.svg\" alt=\"Open In Colab\"/></a>"
      ]
    },
    {
      "cell_type": "code",
      "execution_count": null,
      "metadata": {
        "id": "4GLp9u15eWBh"
      },
      "outputs": [],
      "source": [
        "#Crie um programa que leia o nome completo de uma pessoa e mostre:\n",
        "#O nome com todas as letras minusculas\n",
        "#O nome com todas as letras maiusculas\n",
        "#Quantas letras ao todo (sem considerar espaços)\n",
        "#Quantas letras tem o primeiro nome\n",
        "nome = str(input('Digite o nome: ')).strip()\n",
        "print ('O seu nome em letras MAIUSCULAS é {}'.format(nome.upper()))\n",
        "print ('O seu nome em letras minusculas é {}'.format(nome.lower()))\n",
        "print ('o tamanho do seu nome sem espaços é {}'.format(len(nome) - nome.count(' ')))\n",
        "#print('Seu primeiro nome tem {} letras'.format (nome.find(' ')))\n",
        "lista = nome.split()\n",
        "print('Seu primeiro nome é {} e ele tem {} letras'.format(lista[0], len(lista[0])))"
      ]
    },
    {
      "cell_type": "code",
      "source": [
        "#Faça um programa que leia um numero de 0 a 9999 e mostre na tela cada um dos digitos separados \n",
        "num = int(input('Digite um numero:'))\n",
        "n = str(num)\n",
        "print('Analisando o numero {}'.format(num))\n",
        "print('Unidade: {}'.format(n[3]))\n",
        "print('Dezena: {}'.format(n[2]))\n",
        "print('Centena: {}'.format(n[1]))\n",
        "print('Milhares: {}'.format(n[0]))\n"
      ],
      "metadata": {
        "id": "WgwjWS_XiNUW"
      },
      "execution_count": null,
      "outputs": []
    },
    {
      "cell_type": "code",
      "source": [
        "#Crie um programa que leia o nome de uma cidade e diga se ela começa com o nome 'SANTO'\n",
        "cid = str(input('Em que cidade você nasceu? ')).strip()\n",
        "print(cid[:5].upper() == 'SANTO')"
      ],
      "metadata": {
        "colab": {
          "base_uri": "https://localhost:8080/"
        },
        "id": "I-Lowht6rhAM",
        "outputId": "e48482b2-d5ab-4ba2-d581-a22cbf4fe03b"
      },
      "execution_count": 36,
      "outputs": [
        {
          "output_type": "stream",
          "name": "stdout",
          "text": [
            "Em que cidade você nasceu? santo\n",
            "True\n"
          ]
        }
      ]
    },
    {
      "cell_type": "code",
      "source": [
        "#Faça um progrma que verifique se você tem silva no seu nome\n",
        "nome = str(input('Qual  é o seu nome completo ? ')).strip()\n",
        "print('Seu nome tem silva ?  {}'.format('silva' in nome.lower()))"
      ],
      "metadata": {
        "colab": {
          "base_uri": "https://localhost:8080/"
        },
        "id": "uBK7gEzG0t3T",
        "outputId": "1caf3bf4-4fe6-4777-e67b-8ae9d4fbb279"
      },
      "execution_count": 40,
      "outputs": [
        {
          "output_type": "stream",
          "name": "stdout",
          "text": [
            "Qual  é o seu nome completo ? Yuri BIangulo SilVa\n",
            "Seu nome tem silva ?  True\n"
          ]
        }
      ]
    },
    {
      "cell_type": "code",
      "source": [
        "#FAÇA UM PROGRAMA QUE LEIA UMA FRASE PELO TECLADO E MOSTRE:\n",
        "#quantas vezes aparece a letra 'A'\n",
        "#Em que posição parece a letra 'A'\n",
        "#Em que posição aparece a ultima vez\n",
        "frase = str(input('Digite a frase: ')).strip().upper()\n",
        "print('A letra A aparece {} vezes na frase'.format(frase.count('A')))\n",
        "print('A primeira letra A apareceu na posição {}'.format(frase.find('A')+1))\n",
        "print('A ultima letra A apareceu na posição {}'.format(frase.rfind('A')+1))"
      ],
      "metadata": {
        "colab": {
          "base_uri": "https://localhost:8080/"
        },
        "id": "jExBrEBd1kA5",
        "outputId": "7cf8a182-f796-461e-f7db-495fb655f1a6"
      },
      "execution_count": 45,
      "outputs": [
        {
          "output_type": "stream",
          "name": "stdout",
          "text": [
            "Digite a frase: Gustavo Guanabara\n",
            "A letra A aparece 5 vezes na frase\n",
            "A primeira letra A apareceu na posição 5\n"
          ]
        }
      ]
    },
    {
      "cell_type": "code",
      "source": [
        "#FAÇA UM PROGRAMA QUE TE DIGA QUAL O SEU PRIMEIRO NOME SEU ULTIMO NOME \n"
      ],
      "metadata": {
        "id": "Raccr23j8sXK"
      },
      "execution_count": null,
      "outputs": []
    },
    {
      "cell_type": "code",
      "source": [
        "n = str(input('Digite seu nome completo: ')).strip()\n",
        "nome = n.split()\n",
        "print ('Seu primeiro nome  é {}'.format(nome[0]))\n",
        "print('Seu ultimo nome é {}'.format(nome[-1]))"
      ],
      "metadata": {
        "colab": {
          "base_uri": "https://localhost:8080/"
        },
        "id": "_15lTWmx7x6W",
        "outputId": "2e7a7160-777d-47a8-ef23-b71dfb302059"
      },
      "execution_count": 51,
      "outputs": [
        {
          "output_type": "stream",
          "name": "stdout",
          "text": [
            "Digite seu nome completo: Yuir BIangulo Ribeiro\n",
            "Seu primeiro nome  é Yuir\n",
            "Seu ultimo nome é Ribeiro\n"
          ]
        }
      ]
    }
  ]
}
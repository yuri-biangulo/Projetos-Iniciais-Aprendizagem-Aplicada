{
  "nbformat": 4,
  "nbformat_minor": 0,
  "metadata": {
    "colab": {
      "name": "Exercicios Utilizando Modulos.ipynb",
      "provenance": [],
      "authorship_tag": "ABX9TyNMtmLFsiy7TPw6H7MB+Wbt",
      "include_colab_link": true
    },
    "kernelspec": {
      "name": "python3",
      "display_name": "Python 3"
    },
    "language_info": {
      "name": "python"
    }
  },
  "cells": [
    {
      "cell_type": "markdown",
      "metadata": {
        "id": "view-in-github",
        "colab_type": "text"
      },
      "source": [
        "<a href=\"https://colab.research.google.com/github/yuri-biangulo/Projetos-Iniciais-Aprendizagem-Aplicada/blob/main/Exercicios_Utilizando_Modulos.ipynb\" target=\"_parent\"><img src=\"https://colab.research.google.com/assets/colab-badge.svg\" alt=\"Open In Colab\"/></a>"
      ]
    },
    {
      "cell_type": "code",
      "source": [
        "#Crie um programa que leia um número Real qualquer pelo teclado e mostra na tela a sua porção inteira\n",
        "import math\n",
        "n = float(input('Digite um numero: '))\n",
        "print('O número {} tem a parte inteira {}'.format(n, math.floor(n)))"
      ],
      "metadata": {
        "colab": {
          "base_uri": "https://localhost:8080/"
        },
        "id": "dptgnrZwnmB9",
        "outputId": "62636fea-5bdd-4f0e-cd64-4c9d4300bbf6"
      },
      "execution_count": 5,
      "outputs": [
        {
          "output_type": "stream",
          "name": "stdout",
          "text": [
            "Digite um numero: 10.1\n",
            "O número 10.1 tem a parte inteira 10\n"
          ]
        }
      ]
    },
    {
      "cell_type": "code",
      "source": [
        "#Faça um programa que leia o comprimento do cateto oposto e do\n",
        "#cateto adjacente de um triangulo, calcule e mostre o comprimento da hipotenusa.\n",
        "co = float(input('Digite o valor do cateto oposto'))\n",
        "ca = float(input('Digite o valor do cateto adjacente'))\n",
        "h = (co**2 + ca**2) ** (1/2)\n",
        "print ('A hipotenusa vai medir {}'.format(h))"
      ],
      "metadata": {
        "colab": {
          "base_uri": "https://localhost:8080/"
        },
        "id": "Sq3CsLUzqG9B",
        "outputId": "ccf9242c-7b50-4093-a6eb-a51a05ccee39"
      },
      "execution_count": 12,
      "outputs": [
        {
          "output_type": "stream",
          "name": "stdout",
          "text": [
            "Digite o valor do cateto oposto2\n",
            "Digite o valor do cateto adjacente2.5\n",
            "A hipotenusa vai medir 3.2015621187164243\n"
          ]
        }
      ]
    },
    {
      "cell_type": "code",
      "source": [
        "from IPython.core.display import Math\n",
        "#Faça um programa que diga o valor do seno, cosseno e da tangente  : \n",
        "a = float(input('Digite o valor do Angulo: '))\n",
        "s = math.sin(math.radians(a))\n",
        "c = math.cos((math.radians(a)))\n",
        "t = math.tan((math.radians(a)))\n",
        "print(' O Angulo de {} tem o SENO de {:.2f} \\n O angulo de {} tem o COSSENO de {:.2f} \\n O Angulo de {} tem a TANGENTE de {:.2f}'.format(a, s, a, c, a, t ))\n"
      ],
      "metadata": {
        "colab": {
          "base_uri": "https://localhost:8080/"
        },
        "id": "_VPGrelRtDdS",
        "outputId": "51ed1eb2-e2f1-42b0-859b-f619a733fd7f"
      },
      "execution_count": 18,
      "outputs": [
        {
          "output_type": "stream",
          "name": "stdout",
          "text": [
            "Digite o valor do Angulo: 30\n",
            " O Angulo de 30.0 tem o SENO de 0.50 \n",
            " O angulo de 30.0 tem o COSSENO de 0.87 \n",
            " O Angulo de 30.0 tem a TANGENTE de 0.58\n"
          ]
        }
      ]
    },
    {
      "cell_type": "code",
      "source": [
        "from numpy import random\n",
        "#Um professor quer sortear um dos seus quatro alunos para apagar o quadro.\n",
        "#Faça um programa que ajude ele.\n",
        "#lendo o nome deles e escrevendo o nome do escolhido\n",
        "import numpy as np\n",
        "import pandas as pd\n",
        "import math\n",
        "a1 = str(input('Digite o nome do Aluno:'))\n",
        "a2 = str(input('Digite o nome do Aluno:'))\n",
        "a3 = str(input('Digite o nome do Aluno:'))\n",
        "a4 = str(input('Digite o nome do Aluno:'))\n",
        "lista = [a1, a2, a3, a4]\n",
        "escolhido = random.choice(lista)\n",
        "print('O aluno escolhido doi {}'.format (escolhido))\n"
      ],
      "metadata": {
        "colab": {
          "base_uri": "https://localhost:8080/"
        },
        "id": "5bT0QmRzwKBL",
        "outputId": "aba04222-15de-4905-a6fe-2862c22dc6b2"
      },
      "execution_count": 26,
      "outputs": [
        {
          "output_type": "stream",
          "name": "stdout",
          "text": [
            "Digite o nome do Aluno:1\n",
            "Digite o nome do Aluno:2\n",
            "Digite o nome do Aluno:3\n",
            "Digite o nome do Aluno:4\n",
            "O aluno escolhido doi 3\n"
          ]
        }
      ]
    },
    {
      "cell_type": "code",
      "source": [
        "#Fala um programa que sorteie a ordem em uma lista de apresentação \n",
        "n1 = str(input('Digite o nome do Aluno:'))\n",
        "n2 = str(input('Digite o nome do Aluno:'))\n",
        "n3 = str(input('Digite o nome do Aluno:'))\n",
        "n4 = str(input('Digite o nome do Aluno:'))\n",
        "lista = [n1,n2,n3,n4]\n",
        "random.shuffle(lista)\n",
        "print('A ordem de apresentação sera : ')\n",
        "print (lista)"
      ],
      "metadata": {
        "colab": {
          "base_uri": "https://localhost:8080/"
        },
        "id": "gOvq2sFxzdeY",
        "outputId": "7f2da9f0-4e30-41d2-8e82-2d6bc3c31fbc"
      },
      "execution_count": 27,
      "outputs": [
        {
          "output_type": "stream",
          "name": "stdout",
          "text": [
            "Digite o nome do Aluno:1\n",
            "Digite o nome do Aluno:2\n",
            "Digite o nome do Aluno:3\n",
            "Digite o nome do Aluno:4\n",
            "A ordem de apresentação sera : \n",
            "['4', '2', '1', '3']\n"
          ]
        }
      ]
    },
    {
      "cell_type": "code",
      "source": [
        "\n"
      ],
      "metadata": {
        "id": "zWgOde_B2O0J"
      },
      "execution_count": 27,
      "outputs": []
    }
  ]
}
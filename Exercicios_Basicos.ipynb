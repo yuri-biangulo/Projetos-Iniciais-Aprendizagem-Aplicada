{
  "nbformat": 4,
  "nbformat_minor": 0,
  "metadata": {
    "colab": {
      "name": "Exercicios Basicos.ipynb",
      "provenance": [],
      "authorship_tag": "ABX9TyMxS8gxy5ouy1KhbTvrt3Nf",
      "include_colab_link": true
    },
    "kernelspec": {
      "name": "python3",
      "display_name": "Python 3"
    },
    "language_info": {
      "name": "python"
    }
  },
  "cells": [
    {
      "cell_type": "markdown",
      "metadata": {
        "id": "view-in-github",
        "colab_type": "text"
      },
      "source": [
        "<a href=\"https://colab.research.google.com/github/yuri-biangulo/Projetos-Iniciais-Aprendizagem-Aplicada/blob/main/Exercicios_Basicos.ipynb\" target=\"_parent\"><img src=\"https://colab.research.google.com/assets/colab-badge.svg\" alt=\"Open In Colab\"/></a>"
      ]
    },
    {
      "cell_type": "code",
      "execution_count": null,
      "metadata": {
        "id": "B8p5lgV0FFKv"
      },
      "outputs": [],
      "source": [
        "#Digite um numero para ver sua tabuada  : \n",
        "#Faça um programa que leia um numeor inteiro qualquer e mostre na tela a sua tabuada"
      ]
    },
    {
      "cell_type": "code",
      "source": [
        "num = int(input('Digite um numero para ver sua tabuada: '))\n",
        "print('{} x {} = {}'.format(num, 1, num*1))\n",
        "print('{} x {} = {}'.format(num, 2, num*2))\n",
        "print('{} x {} = {}'.format(num, 3, num*3))\n",
        "print('{} x {} = {}'.format(num, 4, num*4))\n",
        "print('{} x {} = {}'.format(num, 5, num*5))\n",
        "print('{} x {} = {}'.format(num, 6, num*6))\n",
        "print('{} x {} = {}'.format(num, 7, num*7))\n",
        "print('{} x {} = {}'.format(num, 8, num*8))\n",
        "print('{} x {} = {}'.format(num, 9, num*9))\n",
        "print('{} x {} = {}'.format(num, 10, num*10))"
      ],
      "metadata": {
        "id": "D95t91I_G2fF"
      },
      "execution_count": null,
      "outputs": []
    },
    {
      "cell_type": "code",
      "source": [
        "#Quanto dinheiro você tem na carteira  ?  R$19.88\n",
        "#Resp : Com 19.88 você pode comprar U$6.08 \n",
        "#Conversor de Moedas\n",
        "real = float(input('Digite o valor que vicê tem em carteira: '))\n",
        "dolar = 3.27\n",
        "resultado = real/dolar\n",
        "print(resultado)"
      ],
      "metadata": {
        "colab": {
          "base_uri": "https://localhost:8080/"
        },
        "id": "o8UCb4AwJ0ol",
        "outputId": "f4ef57c6-9c81-4cf7-bcbb-52275ffe4fc5"
      },
      "execution_count": 7,
      "outputs": [
        {
          "output_type": "stream",
          "name": "stdout",
          "text": [
            "Digite o valor que vicê tem em carteira: 19.88\n",
            "6.079510703363914\n"
          ]
        }
      ]
    },
    {
      "cell_type": "code",
      "source": [
        "#Pintando a parade :\n",
        "largura = float(input('Digite a Largura da parede: '))\n",
        "altura = float(input('Digite a Altura da parede: '))\n",
        "area = largura*altura\n",
        "tinta = area/2\n",
        "print('Sua parede tem a dimensão de {} x {}m e sua área é de {}m²'.format(altura, largura, area))\n",
        "print('Para pintar essa parede, você precisará de {} Litros de tinta'.format(tinta))"
      ],
      "metadata": {
        "colab": {
          "base_uri": "https://localhost:8080/"
        },
        "id": "s7T2K6QjPOAe",
        "outputId": "bd0203a7-6566-4c3e-fe48-12e8f3feeb89"
      },
      "execution_count": 13,
      "outputs": [
        {
          "output_type": "stream",
          "name": "stdout",
          "text": [
            "Digite a Largura da parede: 2.5\n",
            "Digite a Altura da parede: 1.75\n",
            "Sua parede tem a dimensão de 1.75 x 2.5m e sua área é de 4.375m²\n",
            "Para pintar essa parede, você precisará de 2.1875 Litros de tinta\n"
          ]
        }
      ]
    },
    {
      "cell_type": "code",
      "source": [
        "#Faça um algoritmo que leia o preço de um produto e mostre o seu novo preço com 5% de desconto. \n",
        "produto = input('Digite o nome do produto: ')\n",
        "preço =  float(input('Digite o preço do produto: '))\n",
        "\n",
        "desconto = preço*0.05 \n",
        "preço_desconto = preço + (preço*0.05)\n",
        "print(preço_desconto)"
      ],
      "metadata": {
        "colab": {
          "base_uri": "https://localhost:8080/"
        },
        "id": "Q-POv3AgSs1a",
        "outputId": "e90c1395-1ed7-4ad1-dc65-494b9cd34f54"
      },
      "execution_count": 16,
      "outputs": [
        {
          "output_type": "stream",
          "name": "stdout",
          "text": [
            "Digite o nome do produto: Abacaxi\n",
            "Digite o preço do produto: 20\n",
            "21.0\n"
          ]
        }
      ]
    },
    {
      "cell_type": "code",
      "source": [
        "#Faça um algoritmo que leia o salario de um funcionario e mostre seu novo salario, com % de aumento\n",
        "salario = float(input('Digite o salario do funcionario R$'))\n",
        "percentual =float(input('Digite o percentual de auemnto ou desconto do salario do funcionario: '))\n",
        "salario_ajustado = (salario + (salario*percentual /100))\n",
        "print('Um funcionario que ganhava R${:.2f} reais, com {}% de aumento, passa a receber R${:.2f} reais'.format(salario, percentual, salario_ajustado))"
      ],
      "metadata": {
        "colab": {
          "base_uri": "https://localhost:8080/"
        },
        "id": "eQRiaR9xVGIU",
        "outputId": "bcc8acc7-cbc7-4ebf-e54c-215872dfe685"
      },
      "execution_count": 28,
      "outputs": [
        {
          "output_type": "stream",
          "name": "stdout",
          "text": [
            "Digite o salario do funcionario R$2000\n",
            "Digite o percentual de auemnto ou desconto do salario do funcionario: 50\n",
            "Um funcionario que ganhava R$2000.00 reais, com 50.0% de aumento, passa a receber R$3000.00 reais\n"
          ]
        }
      ]
    },
    {
      "cell_type": "code",
      "source": [
        "#Faça um programa de conversor de temperaturas\n",
        "#Escreva um programa que converta uma temperatura digitada em ºC e converta para ºF.\n",
        "celsius = float(input('Digite a temperatura em ºC: '))\n",
        "fahrenheit = (celsius*9/5) + 32\n",
        "print('A temperatura de {}ºC convertida é {}ºF'.format(celsius, fahrenheit))\n",
        "\n"
      ],
      "metadata": {
        "colab": {
          "base_uri": "https://localhost:8080/"
        },
        "id": "vWGXuB18Z4z8",
        "outputId": "f0ce5e67-1b10-43f3-e06a-4a427225a5a1"
      },
      "execution_count": 31,
      "outputs": [
        {
          "output_type": "stream",
          "name": "stdout",
          "text": [
            "Digite a temperatura em ºC: 30\n",
            "A temperatura de 30.0ºC convertida é 86.0ºF\n"
          ]
        }
      ]
    },
    {
      "cell_type": "code",
      "source": [
        "#Faça um programa que calcule a quantidade de dias que o carro foi alugado, quantos Km ele rodou, e o total a pagar \n",
        "#O carro custa R$60,00 reais por dia e R$0,15 centavos por KM rodado.\n",
        "dias = int(input('Digite a quantidade de dias que o carro foi laugado: '))\n",
        "km= float(input('Digite a quantidade de Km rodados com o carro: '))\n",
        "carro = 60\n",
        "preçokm = 0.15\n",
        "total_pagar = (carro*dias) + (km*preçokm)\n",
        "print('O total a pagar é R${35} reais'.format(total_pagar))"
      ],
      "metadata": {
        "id": "_EGsPU5Xb-yY"
      },
      "execution_count": null,
      "outputs": []
    },
    {
      "cell_type": "code",
      "source": [
        ""
      ],
      "metadata": {
        "id": "unTfYqvifXjw"
      },
      "execution_count": null,
      "outputs": []
    },
    {
      "cell_type": "code",
      "source": [
        ""
      ],
      "metadata": {
        "id": "qlUK3UromTd2"
      },
      "execution_count": null,
      "outputs": []
    }
  ]
}
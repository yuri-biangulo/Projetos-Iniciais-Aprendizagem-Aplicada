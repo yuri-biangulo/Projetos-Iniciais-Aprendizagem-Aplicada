{
  "nbformat": 4,
  "nbformat_minor": 0,
  "metadata": {
    "colab": {
      "name": "Calculo de dobro triplo e raiz.ipynb",
      "provenance": [],
      "authorship_tag": "ABX9TyNBLJORPOVoGmbwnJwUI942",
      "include_colab_link": true
    },
    "kernelspec": {
      "name": "python3",
      "display_name": "Python 3"
    },
    "language_info": {
      "name": "python"
    }
  },
  "cells": [
    {
      "cell_type": "markdown",
      "metadata": {
        "id": "view-in-github",
        "colab_type": "text"
      },
      "source": [
        "<a href=\"https://colab.research.google.com/github/yuri-biangulo/Projetos-Iniciais-Aprendizagem-Aplicada/blob/main/Calculo_de_dobro_triplo_e_raiz.ipynb\" target=\"_parent\"><img src=\"https://colab.research.google.com/assets/colab-badge.svg\" alt=\"Open In Colab\"/></a>"
      ]
    },
    {
      "cell_type": "markdown",
      "source": [
        ""
      ],
      "metadata": {
        "id": "YT1UiRSLIkLA"
      }
    },
    {
      "cell_type": "markdown",
      "source": [
        "# IMPORTANDO BIBLIOTECAS"
      ],
      "metadata": {
        "id": "aT1osdPNIqRl"
      }
    },
    {
      "cell_type": "code",
      "execution_count": 1,
      "metadata": {
        "id": "jgeHMZSIxgbL"
      },
      "outputs": [],
      "source": [
        "import numpy as np\n",
        "import pandas as pd"
      ]
    },
    {
      "cell_type": "markdown",
      "source": [
        "FAÇA UM PROGRMA QUE CLACULE O DOBRO O TRIPLO E A RAIZ DE UM NUMERO"
      ],
      "metadata": {
        "id": "5X5g1qtsksZO"
      }
    },
    {
      "cell_type": "code",
      "source": [
        " n = int(input('Digite um numero: '))\n",
        " d = n*2\n",
        " t = n*3\n",
        " r = n**(1/2)\n",
        " print('O dobro de {} vale {}'.format(n, d))\n",
        " print('O triplo de {} vale {}'.format(n, t))\n",
        " print('A raiz quadrada de {} vale {:.2f}'.format(n, r))\n",
        " "
      ],
      "metadata": {
        "colab": {
          "base_uri": "https://localhost:8080/"
        },
        "id": "3V1-sQ2oIlqe",
        "outputId": "03230aac-33bf-4985-9866-5d477bcddb4c"
      },
      "execution_count": 4,
      "outputs": [
        {
          "output_type": "stream",
          "name": "stdout",
          "text": [
            "Digite um numero: 8\n",
            "O dobro de 8 vale 16\n",
            "O triplo de 8 vale 24\n",
            "A raiz quadrada de 8 vale 2.83\n"
          ]
        }
      ]
    },
    {
      "cell_type": "code",
      "source": [
        ""
      ],
      "metadata": {
        "id": "05OVeKmEkyO8"
      },
      "execution_count": null,
      "outputs": []
    }
  ]
}